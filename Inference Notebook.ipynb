{
 "cells": [
  {
   "cell_type": "code",
   "execution_count": 1,
   "id": "5bff6d6d-7cab-4786-9b4c-0f56282c3d92",
   "metadata": {},
   "outputs": [],
   "source": [
    "from nltk.corpus import stopwords\n",
    "from nltk.tokenize import word_tokenize\n",
    "from gensim.corpora import Dictionary\n",
    "from gensim.models import TfidfModel\n",
    "from gensim.similarities import SparseMatrixSimilarity\n",
    "import pickle"
   ]
  },
  {
   "cell_type": "code",
   "execution_count": 2,
   "id": "8f1b3785-6c08-44d6-8e88-c153d7dcea17",
   "metadata": {},
   "outputs": [],
   "source": [
    "stop_words = set(stopwords.words(\"english\"))\n",
    "def tokenize_clean(document):\n",
    "    return [w.lower() for w in word_tokenize(document) if w.lower() not in stop_words and w.isalpha()]"
   ]
  },
  {
   "cell_type": "code",
   "execution_count": 3,
   "id": "52a898ae-7c8f-4760-9a4d-fe5728a3319d",
   "metadata": {},
   "outputs": [],
   "source": [
    "my_dict = Dictionary.load_from_text(\"search_dict.txt\")\n",
    "my_tfidf = TfidfModel.load(\"model_tfidf.tfidf\")\n",
    "index = SparseMatrixSimilarity.load(\"model_index.index\")\n",
    "with open(\"raw_documents.pkl\", \"rb\") as file:\n",
    "    raw_documents = pickle.load(file)"
   ]
  },
  {
   "cell_type": "code",
   "execution_count": 4,
   "id": "7a450c86-8b7e-44ba-bbfb-b1d0754d43ea",
   "metadata": {},
   "outputs": [],
   "source": [
    "def generate_results(query, to_return = 10):\n",
    "    tokens = tokenize_clean(query)\n",
    "    sims = index[my_tfidf[my_dict.doc2bow(tokens)]]\n",
    "    sims_pairs = sorted(enumerate(sims), reverse=True, key = lambda x: x[1])\n",
    "    top_docs = []\n",
    "    for (i, score) in sims_pairs[:to_return]:\n",
    "        top_docs.append(raw_documents[i][:100])\n",
    "    return top_docs"
   ]
  },
  {
   "cell_type": "code",
   "execution_count": 5,
   "id": "3ef07ef7-ba97-4f8f-9fcd-b9678da99d9d",
   "metadata": {},
   "outputs": [
    {
     "data": {
      "text/plain": [
       "['Robert Curthose (–1134), sometimes styled Robert II or Robert III, was the Duke of Normandy from 108',\n",
       " 'Robert the Magnificent () († 1035), was the sixth Duke of Normandy from 1027 until he died returning',\n",
       " 'Robert Johnson may mean:\\n\\n In politics\\nRobert Johnson (governor), South Carolina\\nRobert Johnson (Tex',\n",
       " 'Robert I of Scotland (11 July 1274 – 7 June 1329) was King of Scotland from 1306 to 1329. He is bett',\n",
       " 'Robert II Archbishop of Rouen (989–1037) and Count of Évreux. He was an important and influential me',\n",
       " 'Alain Robert (born Robert Alain Philippe; 7 August 1962) is a French rock climber and urban climber.',\n",
       " '\\n\\nDeaths \\n March 21 – Robert I, Duke of Burgundy',\n",
       " 'Robert Todd Lincoln (August 1, 1843 – July 26, 1926) was an American lawyer and Secretary of War. He',\n",
       " 'Robert Evans (June 29, 1930 – October 26, 2019) was an American movie producer and studio executive.',\n",
       " 'A Fnord is the typographic representation of disinformation or useless information with the intent t']"
      ]
     },
     "execution_count": 5,
     "metadata": {},
     "output_type": "execute_result"
    }
   ],
   "source": [
    "generate_results(\"robert\")"
   ]
  },
  {
   "cell_type": "code",
   "execution_count": 6,
   "id": "1050029d-0408-447d-8db7-763e6011268d",
   "metadata": {},
   "outputs": [
    {
     "data": {
      "text/plain": [
       "['Albert Einstein Square  (, Kikar Albert Einstein) is a public square in Jerusalem, Israel. it is loc',\n",
       " 'Albert Einstein (14 March 1879 – 18 April 1955) was a German-born American scientist. He worked on t',\n",
       " 'Stewart Robert \"Bob\" Einstein (November 20, 1942 – January 2, 2019) was an American actor, comedy wr',\n",
       " 'Meir Einstein (\\u200e; 21 October 1951 – 23 March 2017) was an Israeli sports broadcaster. He was born\\xa0in',\n",
       " 'Elsa Einstein, (18 January 1876 - 20 December 1936), was the second wife of the German phyicist, Alb',\n",
       " 'Arieh \"Arik\" Einstein (January 3, 1939 – November 26, 2013) was a popular Israel singer, songwriter,',\n",
       " 'Hendrik Antoon Lorentz (18 July 1853 – 4 February 1928) was a Dutch physicist. In 1902, he was award',\n",
       " 'Mileva Marić (1875-1948) was a Serbian physicist. She was one of the first women to study physics. S',\n",
       " 'The EPR paradox is an early and strong criticism of quantum mechanics. Albert Einstein and his co-wo',\n",
       " 'Space-time is a mathematical model that joins space and time into a single idea called a continuum. ']"
      ]
     },
     "execution_count": 6,
     "metadata": {},
     "output_type": "execute_result"
    }
   ],
   "source": [
    "generate_results(\"einstein\")"
   ]
  },
  {
   "cell_type": "code",
   "execution_count": 7,
   "id": "c09dd4c7-1e3d-48d4-b987-2dcd7d374ec9",
   "metadata": {},
   "outputs": [
    {
     "data": {
      "text/plain": [
       "['Earth is the third planet of the solar system. It is the only planet known to have life on it. The E',\n",
       " 'The Earth phase, Terra phase, Terrestrial phase or phase of the Earth, is the shape of the directly ',\n",
       " \"All planets in our solar system follow an elliptical path. This path is known as an orbit. Earth's o\",\n",
       " 'The Blue Marble is a photograph of the Earth. It was made on December 2, 1972, by the crew of the Ap',\n",
       " 'Earth is a city in Lamb County, Texas, United States. There were 1,109 people living in Earth as of ',\n",
       " 'The origin of water on Earth is only partly known. Life as we know it depends on water, and most typ',\n",
       " 'The idea of a flat Earth is that the surface of the Earth is flat (a plane). Belief in a flat Earth ',\n",
       " '\"Earthrise\" is a photo of the Earth from the Moon taken on the Apollo 8 mission. It was taken by ast',\n",
       " 'The Flat Earth Society (or the International Flat Earth Research Society) is an organization claimin',\n",
       " 'Young Earth creationism (YEC) is the pseudoscientific belief that the God of Judaism or Christianity']"
      ]
     },
     "execution_count": 7,
     "metadata": {},
     "output_type": "execute_result"
    }
   ],
   "source": [
    "generate_results(\"earth\")"
   ]
  },
  {
   "cell_type": "code",
   "execution_count": null,
   "id": "051aa37e-53e9-4b8d-9497-24526ee80d31",
   "metadata": {},
   "outputs": [],
   "source": []
  },
  {
   "cell_type": "code",
   "execution_count": null,
   "id": "9a1f2e66-8deb-40e4-93c3-521f9bacf46e",
   "metadata": {},
   "outputs": [],
   "source": []
  },
  {
   "cell_type": "code",
   "execution_count": null,
   "id": "3503c554-01c5-41cb-b8df-4ad89cf928d1",
   "metadata": {},
   "outputs": [],
   "source": []
  }
 ],
 "metadata": {
  "kernelspec": {
   "display_name": "Python 3 (ipykernel)",
   "language": "python",
   "name": "python3"
  },
  "language_info": {
   "codemirror_mode": {
    "name": "ipython",
    "version": 3
   },
   "file_extension": ".py",
   "mimetype": "text/x-python",
   "name": "python",
   "nbconvert_exporter": "python",
   "pygments_lexer": "ipython3",
   "version": "3.12.7"
  }
 },
 "nbformat": 4,
 "nbformat_minor": 5
}
